{
 "cells": [
  {
   "cell_type": "code",
   "execution_count": null,
   "metadata": {
    "dotnet_interactive": {
     "language": "pwsh"
    }
   },
   "outputs": [],
   "source": [
    "Import-Module ../PowerShellSequenceUtils.psd1 -Force"
   ]
  },
  {
   "cell_type": "code",
   "execution_count": null,
   "metadata": {
    "dotnet_interactive": {
     "language": "pwsh"
    }
   },
   "outputs": [
    {
     "name": "stdout",
     "output_type": "stream",
     "text": [
      "1\r\n",
      "2\r\n",
      "3\r\n",
      "4\r\n",
      "5\r\n",
      "6\r\n",
      "7\r\n",
      "8\r\n",
      "9\r\n",
      "10\r\n"
     ]
    }
   ],
   "source": [
    "seq 10"
   ]
  },
  {
   "cell_type": "code",
   "execution_count": null,
   "metadata": {
    "dotnet_interactive": {
     "language": "pwsh"
    }
   },
   "outputs": [
    {
     "name": "stdout",
     "output_type": "stream",
     "text": [
      "10\r\n",
      "11\r\n",
      "12\r\n",
      "13\r\n",
      "14\r\n",
      "15\r\n",
      "16\r\n",
      "17\r\n",
      "18\r\n",
      "19\r\n",
      "20\r\n"
     ]
    }
   ],
   "source": [
    "seq 10 20"
   ]
  },
  {
   "cell_type": "code",
   "execution_count": null,
   "metadata": {
    "dotnet_interactive": {
     "language": "pwsh"
    }
   },
   "outputs": [
    {
     "name": "stdout",
     "output_type": "stream",
     "text": [
      "10\r\n",
      "12\r\n",
      "14\r\n",
      "16\r\n",
      "18\r\n",
      "20\r\n"
     ]
    }
   ],
   "source": [
    "seq 10 2 20"
   ]
  },
  {
   "cell_type": "code",
   "execution_count": null,
   "metadata": {
    "dotnet_interactive": {
     "language": "pwsh"
    }
   },
   "outputs": [
    {
     "name": "stdout",
     "output_type": "stream",
     "text": [
      "1\r\n",
      "1.2\r\n",
      "1.4\r\n",
      "1.6\r\n",
      "1.8\r\n",
      "2.0\r\n"
     ]
    }
   ],
   "source": [
    "seq 1 .2 2"
   ]
  },
  {
   "cell_type": "code",
   "execution_count": null,
   "metadata": {
    "dotnet_interactive": {
     "language": "pwsh"
    }
   },
   "outputs": [
    {
     "name": "stdout",
     "output_type": "stream",
     "text": [
      "24\r\n",
      "18\r\n",
      "12\r\n"
     ]
    }
   ],
   "source": [
    "seq 24 -6 12"
   ]
  },
  {
   "cell_type": "code",
   "execution_count": null,
   "metadata": {
    "dotnet_interactive": {
     "language": "pwsh"
    }
   },
   "outputs": [
    {
     "name": "stdout",
     "output_type": "stream",
     "text": [
      "6,12,18,24,30,36\r\n"
     ]
    }
   ],
   "source": [
    "seq -sep ',' 6 6 36"
   ]
  },
  {
   "cell_type": "code",
   "execution_count": null,
   "metadata": {
    "dotnet_interactive": {
     "language": "pwsh"
    }
   },
   "outputs": [
    {
     "name": "stdout",
     "output_type": "stream",
     "text": [
      "6:12:18:24:30:36\r\n"
     ]
    }
   ],
   "source": [
    "seq -sep : 6 6 36"
   ]
  },
  {
   "cell_type": "code",
   "execution_count": null,
   "metadata": {
    "dotnet_interactive": {
     "language": "pwsh"
    }
   },
   "outputs": [
    {
     "name": "stdout",
     "output_type": "stream",
     "text": [
      "6--12--18--24--30--36\r\n"
     ]
    }
   ],
   "source": [
    "seq -sep '--' 6 6 36"
   ]
  },
  {
   "cell_type": "code",
   "execution_count": null,
   "metadata": {
    "dotnet_interactive": {
     "language": "pwsh"
    }
   },
   "outputs": [
    {
     "name": "stdout",
     "output_type": "stream",
     "text": [
      "1\r\n",
      "2\r\n",
      "3\r\n",
      "4\r\n",
      "5\r\n",
      "6\r\n"
     ]
    }
   ],
   "source": [
    "seq 6 -Format '{0}'"
   ]
  },
  {
   "cell_type": "code",
   "execution_count": null,
   "metadata": {
    "dotnet_interactive": {
     "language": "pwsh"
    }
   },
   "outputs": [
    {
     "name": "stdout",
     "output_type": "stream",
     "text": [
      "01\r\n",
      "02\r\n",
      "03\r\n",
      "04\r\n",
      "05\r\n",
      "06\r\n"
     ]
    }
   ],
   "source": [
    "seq 6 -Format '{0:00}'"
   ]
  },
  {
   "cell_type": "code",
   "execution_count": null,
   "metadata": {
    "dotnet_interactive": {
     "language": "pwsh"
    }
   },
   "outputs": [
    {
     "name": "stdout",
     "output_type": "stream",
     "text": [
      "Number 01 in a C-like format string\r\n",
      "Number 02 in a C-like format string\r\n",
      "Number 03 in a C-like format string\r\n",
      "Number 04 in a C-like format string\r\n",
      "Number 05 in a C-like format string\r\n",
      "Number 06 in a C-like format string\r\n"
     ]
    }
   ],
   "source": [
    "seq 6 -Format 'Number {0:00} in a C-like format string'"
   ]
  },
  {
   "cell_type": "code",
   "execution_count": null,
   "metadata": {
    "dotnet_interactive": {
     "language": "pwsh"
    }
   },
   "outputs": [
    {
     "name": "stdout",
     "output_type": "stream",
     "text": [
      "$1.00\r\n",
      "$1.20\r\n",
      "$1.40\r\n",
      "$1.60\r\n",
      "$1.80\r\n",
      "$2.00\r\n"
     ]
    }
   ],
   "source": [
    "seq 1 .2 2 -Format '{0:C}'"
   ]
  },
  {
   "cell_type": "code",
   "execution_count": null,
   "metadata": {
    "dotnet_interactive": {
     "language": "pwsh"
    }
   },
   "outputs": [
    {
     "name": "stdout",
     "output_type": "stream",
     "text": [
      "0100\r\n",
      "0200\r\n",
      "0300\r\n",
      "0400\r\n",
      "0500\r\n",
      "0600\r\n",
      "0700\r\n",
      "0800\r\n",
      "0900\r\n",
      "1000\r\n"
     ]
    }
   ],
   "source": [
    "seq 100 100 1000 -EqualWidth"
   ]
  },
  {
   "cell_type": "code",
   "execution_count": null,
   "metadata": {
    "dotnet_interactive": {
     "language": "pwsh"
    }
   },
   "outputs": [
    {
     "name": "stdout",
     "output_type": "stream",
     "text": [
      "010\r\n",
      "020\r\n",
      "030\r\n",
      "040\r\n",
      "050\r\n",
      "060\r\n",
      "070\r\n",
      "080\r\n",
      "090\r\n",
      "100\r\n"
     ]
    }
   ],
   "source": [
    "seq 10 10 100 -EqualWidth"
   ]
  },
  {
   "cell_type": "code",
   "execution_count": null,
   "metadata": {
    "dotnet_interactive": {
     "language": "pwsh"
    }
   },
   "outputs": [
    {
     "name": "stdout",
     "output_type": "stream",
     "text": [
      "010\r\n",
      "011\r\n",
      "012\r\n",
      "013\r\n",
      "014\r\n",
      "015\r\n",
      "016\r\n",
      "017\r\n",
      "018\r\n",
      "019\r\n",
      "020\r\n",
      "021\r\n",
      "022\r\n",
      "023\r\n",
      "024\r\n",
      "025\r\n",
      "026\r\n",
      "027\r\n",
      "028\r\n",
      "029\r\n",
      "030\r\n",
      "031\r\n",
      "032\r\n",
      "033\r\n",
      "034\r\n",
      "035\r\n",
      "036\r\n",
      "037\r\n",
      "038\r\n",
      "039\r\n",
      "040\r\n",
      "041\r\n",
      "042\r\n",
      "043\r\n",
      "044\r\n",
      "045\r\n",
      "046\r\n",
      "047\r\n",
      "048\r\n",
      "049\r\n",
      "050\r\n",
      "051\r\n",
      "052\r\n",
      "053\r\n",
      "054\r\n",
      "055\r\n",
      "056\r\n",
      "057\r\n",
      "058\r\n",
      "059\r\n",
      "060\r\n",
      "061\r\n",
      "062\r\n",
      "063\r\n",
      "064\r\n",
      "065\r\n",
      "066\r\n",
      "067\r\n",
      "068\r\n",
      "069\r\n",
      "070\r\n",
      "071\r\n",
      "072\r\n",
      "073\r\n",
      "074\r\n",
      "075\r\n",
      "076\r\n",
      "077\r\n",
      "078\r\n",
      "079\r\n",
      "080\r\n",
      "081\r\n",
      "082\r\n",
      "083\r\n",
      "084\r\n",
      "085\r\n",
      "086\r\n",
      "087\r\n",
      "088\r\n",
      "089\r\n",
      "090\r\n",
      "091\r\n",
      "092\r\n",
      "093\r\n",
      "094\r\n",
      "095\r\n",
      "096\r\n",
      "097\r\n",
      "098\r\n",
      "099\r\n",
      "100\r\n"
     ]
    }
   ],
   "source": [
    "seq 10 100 -EqualWidth"
   ]
  },
  {
   "cell_type": "code",
   "execution_count": null,
   "metadata": {
    "dotnet_interactive": {
     "language": "pwsh"
    }
   },
   "outputs": [
    {
     "name": "stdout",
     "output_type": "stream",
     "text": [
      "1*2*3*4*5*6 = 720\r\n"
     ]
    }
   ],
   "source": [
    "$r = seq -separator * 6\n",
    "\"{0} = {1}\" -f $r, ($r | Invoke-Expression)"
   ]
  },
  {
   "cell_type": "code",
   "execution_count": null,
   "metadata": {
    "dotnet_interactive": {
     "language": "pwsh"
    }
   },
   "outputs": [
    {
     "name": "stdout",
     "output_type": "stream",
     "text": [
      "1+2+3+4+5+6+7+8+9+10 = 55\r\n"
     ]
    }
   ],
   "source": [
    "$r = seq -separator + 10 \n",
    "\n",
    "\"{0} = {1}\" -f $r, ($r | Invoke-Expression)"
   ]
  }
 ],
 "metadata": {
  "kernelspec": {
   "display_name": ".NET (PowerShell)",
   "language": "PowerShell",
   "name": ".net-pwsh"
  },
  "language_info": {
   "name": "PowerShell"
  }
 },
 "nbformat": 4,
 "nbformat_minor": 2
}
