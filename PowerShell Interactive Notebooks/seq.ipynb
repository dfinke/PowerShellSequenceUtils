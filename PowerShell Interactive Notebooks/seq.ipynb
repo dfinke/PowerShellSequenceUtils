{
 "cells": [
  {
   "cell_type": "code",
   "execution_count": null,
   "metadata": {
    "dotnet_interactive": {
     "language": "pwsh"
    }
   },
   "outputs": [],
   "source": [
    "Import-Module ../PowerShellSequenceUtils.psd1 -Force"
   ]
  },
  {
   "cell_type": "markdown",
   "metadata": {},
   "source": [
    "Sometimes, you come across a command line tool that offers limited functionality on its own, but when used with other tools, you realize its actual potential. Once such tool is `seq`, which prints a sequence of numbers. We will discuss the basics of this command line utility using easy to understand examples."
   ]
  },
  {
   "cell_type": "markdown",
   "metadata": {},
   "source": [
    "## How `seq` command works?"
   ]
  },
  {
   "cell_type": "code",
   "execution_count": null,
   "metadata": {
    "dotnet_interactive": {
     "language": "pwsh"
    }
   },
   "outputs": [
    {
     "name": "stdout",
     "output_type": "stream",
     "text": [
      "1\r\n",
      "2\r\n",
      "3\r\n",
      "4\r\n",
      "5\r\n",
      "6\r\n",
      "7\r\n",
      "8\r\n"
     ]
    }
   ],
   "source": [
    "seq 8"
   ]
  },
  {
   "cell_type": "code",
   "execution_count": null,
   "metadata": {
    "dotnet_interactive": {
     "language": "pwsh"
    }
   },
   "outputs": [
    {
     "name": "stdout",
     "output_type": "stream",
     "text": [
      "3\r\n",
      "4\r\n",
      "5\r\n",
      "6\r\n",
      "7\r\n",
      "8\r\n"
     ]
    }
   ],
   "source": [
    "seq 3 8"
   ]
  },
  {
   "cell_type": "code",
   "execution_count": null,
   "metadata": {
    "dotnet_interactive": {
     "language": "pwsh"
    }
   },
   "outputs": [
    {
     "name": "stdout",
     "output_type": "stream",
     "text": [
      "1\r\n",
      "3\r\n",
      "5\r\n",
      "7\r\n",
      "9\r\n"
     ]
    }
   ],
   "source": [
    "seq 1 2 9"
   ]
  },
  {
   "cell_type": "markdown",
   "metadata": {},
   "source": [
    "Count with decimals"
   ]
  },
  {
   "cell_type": "code",
   "execution_count": null,
   "metadata": {
    "dotnet_interactive": {
     "language": "pwsh"
    }
   },
   "outputs": [
    {
     "name": "stdout",
     "output_type": "stream",
     "text": [
      "1\r\n",
      "1.2\r\n",
      "1.4\r\n",
      "1.6\r\n",
      "1.8\r\n",
      "2.0\r\n"
     ]
    }
   ],
   "source": [
    "seq 1 .2 2"
   ]
  },
  {
   "cell_type": "markdown",
   "metadata": {},
   "source": [
    "Count backwards"
   ]
  },
  {
   "cell_type": "code",
   "execution_count": null,
   "metadata": {
    "dotnet_interactive": {
     "language": "pwsh"
    }
   },
   "outputs": [
    {
     "name": "stdout",
     "output_type": "stream",
     "text": [
      "24\r\n",
      "18\r\n",
      "12\r\n"
     ]
    }
   ],
   "source": [
    "seq 24 -6 12"
   ]
  },
  {
   "cell_type": "markdown",
   "metadata": {},
   "source": [
    "## How to add a separator?"
   ]
  },
  {
   "cell_type": "code",
   "execution_count": null,
   "metadata": {
    "dotnet_interactive": {
     "language": "pwsh"
    }
   },
   "outputs": [
    {
     "name": "stdout",
     "output_type": "stream",
     "text": [
      "6,12,18,24,30,36\r\n"
     ]
    }
   ],
   "source": [
    "seq -sep ',' 6 6 36"
   ]
  },
  {
   "cell_type": "code",
   "execution_count": null,
   "metadata": {
    "dotnet_interactive": {
     "language": "pwsh"
    }
   },
   "outputs": [
    {
     "name": "stdout",
     "output_type": "stream",
     "text": [
      "6:12:18:24:30:36\r\n"
     ]
    }
   ],
   "source": [
    "seq -sep : 6 6 36"
   ]
  },
  {
   "cell_type": "code",
   "execution_count": null,
   "metadata": {
    "dotnet_interactive": {
     "language": "pwsh"
    }
   },
   "outputs": [
    {
     "name": "stdout",
     "output_type": "stream",
     "text": [
      "6--12--18--24--30--36\r\n"
     ]
    }
   ],
   "source": [
    "seq -sep '--' 6 6 36"
   ]
  },
  {
   "cell_type": "markdown",
   "metadata": {},
   "source": [
    "## How to specify output format?"
   ]
  },
  {
   "cell_type": "code",
   "execution_count": null,
   "metadata": {
    "dotnet_interactive": {
     "language": "pwsh"
    }
   },
   "outputs": [
    {
     "name": "stdout",
     "output_type": "stream",
     "text": [
      "1\r\n",
      "2\r\n",
      "3\r\n",
      "4\r\n",
      "5\r\n",
      "6\r\n"
     ]
    }
   ],
   "source": [
    "seq 6 -Format '{0}'"
   ]
  },
  {
   "cell_type": "code",
   "execution_count": null,
   "metadata": {
    "dotnet_interactive": {
     "language": "pwsh"
    }
   },
   "outputs": [
    {
     "name": "stdout",
     "output_type": "stream",
     "text": [
      "01\r\n",
      "02\r\n",
      "03\r\n",
      "04\r\n",
      "05\r\n",
      "06\r\n"
     ]
    }
   ],
   "source": [
    "seq 6 -Format '{0:00}'"
   ]
  },
  {
   "cell_type": "code",
   "execution_count": null,
   "metadata": {
    "dotnet_interactive": {
     "language": "pwsh"
    }
   },
   "outputs": [
    {
     "name": "stdout",
     "output_type": "stream",
     "text": [
      "Number 01 in a C-like format string\r\n",
      "Number 02 in a C-like format string\r\n",
      "Number 03 in a C-like format string\r\n",
      "Number 04 in a C-like format string\r\n",
      "Number 05 in a C-like format string\r\n",
      "Number 06 in a C-like format string\r\n"
     ]
    }
   ],
   "source": [
    "seq 6 -Format 'Number {0:00} in a C-like format string'"
   ]
  },
  {
   "cell_type": "code",
   "execution_count": null,
   "metadata": {
    "dotnet_interactive": {
     "language": "pwsh"
    }
   },
   "outputs": [
    {
     "name": "stdout",
     "output_type": "stream",
     "text": [
      "$1.00\r\n",
      "$1.20\r\n",
      "$1.40\r\n",
      "$1.60\r\n",
      "$1.80\r\n",
      "$2.00\r\n"
     ]
    }
   ],
   "source": [
    "seq 1 .2 2 -Format '{0:C}'"
   ]
  },
  {
   "cell_type": "markdown",
   "metadata": {},
   "source": [
    "## A Quick Way to Set Zero Padding"
   ]
  },
  {
   "cell_type": "code",
   "execution_count": null,
   "metadata": {
    "dotnet_interactive": {
     "language": "pwsh"
    }
   },
   "outputs": [
    {
     "name": "stdout",
     "output_type": "stream",
     "text": [
      "0100\r\n",
      "0200\r\n",
      "0300\r\n",
      "0400\r\n",
      "0500\r\n",
      "0600\r\n",
      "0700\r\n",
      "0800\r\n",
      "0900\r\n",
      "1000\r\n"
     ]
    }
   ],
   "source": [
    "seq 100 100 1000 -EqualWidth"
   ]
  },
  {
   "cell_type": "code",
   "execution_count": null,
   "metadata": {
    "dotnet_interactive": {
     "language": "pwsh"
    }
   },
   "outputs": [
    {
     "name": "stdout",
     "output_type": "stream",
     "text": [
      "01\r\n",
      "02\r\n",
      "03\r\n",
      "04\r\n",
      "05\r\n",
      "06\r\n",
      "07\r\n",
      "08\r\n",
      "09\r\n",
      "10\r\n"
     ]
    }
   ],
   "source": [
    "seq 1 10 -EqualWidth"
   ]
  },
  {
   "cell_type": "code",
   "execution_count": null,
   "metadata": {
    "dotnet_interactive": {
     "language": "pwsh"
    }
   },
   "outputs": [
    {
     "name": "stdout",
     "output_type": "stream",
     "text": [
      "010\r\n",
      "020\r\n",
      "030\r\n",
      "040\r\n",
      "050\r\n",
      "060\r\n",
      "070\r\n",
      "080\r\n",
      "090\r\n",
      "100\r\n"
     ]
    }
   ],
   "source": [
    "seq 10 10 100 -EqualWidth"
   ]
  },
  {
   "cell_type": "markdown",
   "metadata": {},
   "source": [
    "## How to use `seq` with other commands?"
   ]
  },
  {
   "cell_type": "code",
   "execution_count": null,
   "metadata": {
    "dotnet_interactive": {
     "language": "pwsh"
    }
   },
   "outputs": [
    {
     "name": "stdout",
     "output_type": "stream",
     "text": [
      "1*2*3*4*5*6 = 720\r\n"
     ]
    }
   ],
   "source": [
    "$r = seq -separator * 6\n",
    "\"{0} = {1}\" -f $r, ($r | Invoke-Expression)"
   ]
  },
  {
   "cell_type": "code",
   "execution_count": null,
   "metadata": {
    "dotnet_interactive": {
     "language": "pwsh"
    }
   },
   "outputs": [],
   "source": [
    "# seq 1 10 -Format 'file{0}.txt' | % {'hello world' > $_}"
   ]
  },
  {
   "cell_type": "markdown",
   "metadata": {},
   "source": [
    "## The Speed of seq"
   ]
  },
  {
   "cell_type": "code",
   "execution_count": null,
   "metadata": {
    "dotnet_interactive": {
     "language": "pwsh"
    }
   },
   "outputs": [
    {
     "name": "stdout",
     "output_type": "stream",
     "text": [
      "0.3369697\r\n"
     ]
    }
   ],
   "source": [
    "(Measure-Command { $r = seq 250000 }).TotalSeconds"
   ]
  }
 ],
 "metadata": {
  "kernelspec": {
   "display_name": ".NET (PowerShell)",
   "language": "PowerShell",
   "name": ".net-powershell"
  },
  "language_info": {
   "name": "PowerShell"
  }
 },
 "nbformat": 4,
 "nbformat_minor": 2
}
