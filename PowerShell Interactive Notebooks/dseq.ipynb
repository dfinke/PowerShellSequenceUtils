{
 "cells": [
  {
   "cell_type": "code",
   "execution_count": null,
   "metadata": {
    "dotnet_interactive": {
     "language": "pwsh"
    }
   },
   "outputs": [],
   "source": [
    "Import-Module ../PowerShellSequenceUtils.psd1 -Force"
   ]
  },
  {
   "cell_type": "code",
   "execution_count": null,
   "metadata": {
    "dotnet_interactive": {
     "language": "pwsh"
    }
   },
   "outputs": [
    {
     "name": "stdout",
     "output_type": "stream",
     "text": [
      "\r\n",
      "Sunday, February 27, 2022 8:52:45 AM\r\n",
      "\r\n"
     ]
    }
   ],
   "source": [
    "dseq 1       # tomorrow"
   ]
  },
  {
   "cell_type": "code",
   "execution_count": null,
   "metadata": {
    "dotnet_interactive": {
     "language": "pwsh"
    }
   },
   "outputs": [
    {
     "name": "stdout",
     "output_type": "stream",
     "text": [
      "\r\n",
      "Saturday, February 26, 2022 8:52:45 AM\r\n",
      "\r\n"
     ]
    }
   ],
   "source": [
    "dseq 0 0     # today"
   ]
  },
  {
   "cell_type": "code",
   "execution_count": null,
   "metadata": {
    "dotnet_interactive": {
     "language": "pwsh"
    }
   },
   "outputs": [
    {
     "name": "stdout",
     "output_type": "stream",
     "text": [
      "\r\n",
      "Sunday, February 27, 2022 8:52:45 AM\r\n",
      "Monday, February 28, 2022 8:52:45 AM\r\n",
      "Tuesday, March 1, 2022 8:52:45 AM\r\n",
      "Wednesday, March 2, 2022 8:52:45 AM\r\n",
      "Thursday, March 3, 2022 8:52:45 AM\r\n",
      "Friday, March 4, 2022 8:52:45 AM\r\n",
      "Saturday, March 5, 2022 8:52:45 AM\r\n",
      "\r\n"
     ]
    }
   ],
   "source": [
    "dseq 7       # next 7 days"
   ]
  },
  {
   "cell_type": "code",
   "execution_count": null,
   "metadata": {
    "dotnet_interactive": {
     "language": "pwsh"
    }
   },
   "outputs": [
    {
     "name": "stdout",
     "output_type": "stream",
     "text": [
      "\r\n",
      "Thursday, February 24, 2022 8:52:45 AM\r\n",
      "Friday, February 25, 2022 8:52:45 AM\r\n",
      "Saturday, February 26, 2022 8:52:45 AM\r\n",
      "\r\n"
     ]
    }
   ],
   "source": [
    "dseq -2 0\t # day before yesterday till today"
   ]
  },
  {
   "cell_type": "code",
   "execution_count": null,
   "metadata": {
    "dotnet_interactive": {
     "language": "pwsh"
    }
   },
   "outputs": [
    {
     "name": "stdout",
     "output_type": "stream",
     "text": [
      "\r\n",
      "Sunday, February 27, 2022 8:52:45 AM\r\n",
      "Sunday, March 6, 2022 8:52:45 AM\r\n",
      "Sunday, March 13, 2022 8:52:45 AM\r\n",
      "Sunday, March 20, 2022 8:52:45 AM\r\n",
      "Sunday, March 27, 2022 8:52:45 AM\r\n",
      "Sunday, April 3, 2022 8:52:45 AM\r\n",
      "Sunday, April 10, 2022 8:52:45 AM\r\n",
      "Sunday, April 17, 2022 8:52:45 AM\r\n",
      "Sunday, April 24, 2022 8:52:45 AM\r\n",
      "Sunday, May 1, 2022 8:52:45 AM\r\n",
      "Sunday, May 8, 2022 8:52:45 AM\r\n",
      "Sunday, May 15, 2022 8:52:45 AM\r\n",
      "Sunday, May 22, 2022 8:52:45 AM\r\n",
      "Sunday, May 29, 2022 8:52:45 AM\r\n",
      "Sunday, June 5, 2022 8:52:46 AM\r\n",
      "Sunday, June 12, 2022 8:52:46 AM\r\n",
      "Sunday, June 19, 2022 8:52:46 AM\r\n",
      "Sunday, June 26, 2022 8:52:46 AM\r\n",
      "Sunday, July 3, 2022 8:52:46 AM\r\n",
      "Sunday, July 10, 2022 8:52:46 AM\r\n",
      "Sunday, July 17, 2022 8:52:46 AM\r\n",
      "Sunday, July 24, 2022 8:52:46 AM\r\n",
      "Sunday, July 31, 2022 8:52:46 AM\r\n",
      "Sunday, August 7, 2022 8:52:46 AM\r\n",
      "Sunday, August 14, 2022 8:52:46 AM\r\n",
      "Sunday, August 21, 2022 8:52:46 AM\r\n",
      "Sunday, August 28, 2022 8:52:46 AM\r\n",
      "Sunday, September 4, 2022 8:52:46 AM\r\n",
      "Sunday, September 11, 2022 8:52:46 AM\r\n",
      "Sunday, September 18, 2022 8:52:46 AM\r\n",
      "Sunday, September 25, 2022 8:52:46 AM\r\n",
      "Sunday, October 2, 2022 8:52:46 AM\r\n",
      "Sunday, October 9, 2022 8:52:46 AM\r\n",
      "Sunday, October 16, 2022 8:52:46 AM\r\n",
      "Sunday, October 23, 2022 8:52:46 AM\r\n",
      "Sunday, October 30, 2022 8:52:46 AM\r\n",
      "Sunday, November 6, 2022 8:52:46 AM\r\n",
      "Sunday, November 13, 2022 8:52:46 AM\r\n",
      "Sunday, November 20, 2022 8:52:46 AM\r\n",
      "Sunday, November 27, 2022 8:52:46 AM\r\n",
      "Sunday, December 4, 2022 8:52:46 AM\r\n",
      "Sunday, December 11, 2022 8:52:46 AM\r\n",
      "Sunday, December 18, 2022 8:52:46 AM\r\n",
      "Sunday, December 25, 2022 8:52:46 AM\r\n",
      "Sunday, January 1, 2023 8:52:46 AM\r\n",
      "Sunday, January 8, 2023 8:52:46 AM\r\n",
      "Sunday, January 15, 2023 8:52:46 AM\r\n",
      "Sunday, January 22, 2023 8:52:46 AM\r\n",
      "Sunday, January 29, 2023 8:52:46 AM\r\n",
      "Sunday, February 5, 2023 8:52:46 AM\r\n",
      "Sunday, February 12, 2023 8:52:46 AM\r\n",
      "Sunday, February 19, 2023 8:52:46 AM\r\n",
      "Sunday, February 26, 2023 8:52:46 AM\r\n",
      "\r\n"
     ]
    }
   ],
   "source": [
    "dseq 1 7 365 # tomorrow and then every week for a year"
   ]
  }
 ],
 "metadata": {
  "kernelspec": {
   "display_name": ".NET (PowerShell)",
   "language": "PowerShell",
   "name": ".net-pwsh"
  },
  "language_info": {
   "name": "PowerShell"
  }
 },
 "nbformat": 4,
 "nbformat_minor": 2
}
