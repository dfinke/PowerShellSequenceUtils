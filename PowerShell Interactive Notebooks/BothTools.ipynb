{
 "cells": [
  {
   "cell_type": "code",
   "execution_count": null,
   "metadata": {
    "dotnet_interactive": {
     "language": "pwsh"
    }
   },
   "outputs": [],
   "source": [
    "Import-Module ../PowerShellSequenceUtils.psd1 -Force"
   ]
  },
  {
   "cell_type": "code",
   "execution_count": null,
   "metadata": {
    "dotnet_interactive": {
     "language": "pwsh"
    }
   },
   "outputs": [
    {
     "name": "stdout",
     "output_type": "stream",
     "text": [
      "1\r\n",
      "2\r\n",
      "3\r\n",
      "4\r\n",
      "5\r\n"
     ]
    }
   ],
   "source": [
    "foreach($item in seq 5) {\n",
    "    $item\n",
    "}"
   ]
  },
  {
   "cell_type": "code",
   "execution_count": null,
   "metadata": {
    "dotnet_interactive": {
     "language": "pwsh"
    }
   },
   "outputs": [
    {
     "name": "stdout",
     "output_type": "stream",
     "text": [
      "5\r\n",
      "6\r\n",
      "7\r\n",
      "8\r\n",
      "9\r\n",
      "10\r\n"
     ]
    }
   ],
   "source": [
    "foreach($item in seq 5 10) {\n",
    "    $item\n",
    "}"
   ]
  },
  {
   "cell_type": "code",
   "execution_count": null,
   "metadata": {
    "dotnet_interactive": {
     "language": "pwsh"
    }
   },
   "outputs": [
    {
     "name": "stdout",
     "output_type": "stream",
     "text": [
      "10\r\n",
      "12\r\n",
      "14\r\n",
      "16\r\n",
      "18\r\n",
      "20\r\n"
     ]
    }
   ],
   "source": [
    "foreach($item in seq 10 2 20) {\n",
    "    $item\n",
    "}"
   ]
  },
  {
   "cell_type": "code",
   "execution_count": null,
   "metadata": {
    "dotnet_interactive": {
     "language": "pwsh"
    }
   },
   "outputs": [
    {
     "name": "stdout",
     "output_type": "stream",
     "text": [
      "5\r\n",
      "5.2\r\n",
      "5.4\r\n",
      "5.6\r\n",
      "5.8\r\n",
      "6.0\r\n",
      "6.2\r\n",
      "6.4\r\n",
      "6.6\r\n"
     ]
    }
   ],
   "source": [
    "foreach($item in seq 5 .2 6.6) {\n",
    "    $item\n",
    "}"
   ]
  },
  {
   "cell_type": "code",
   "execution_count": null,
   "metadata": {
    "dotnet_interactive": {
     "language": "pwsh"
    }
   },
   "outputs": [
    {
     "name": "stdout",
     "output_type": "stream",
     "text": [
      "1\r\n",
      "8\r\n",
      "15\r\n",
      "22\r\n",
      "\r\n",
      "Sunday, February 27, 2022 8:52:39 AM\r\n",
      "Sunday, March 6, 2022 8:52:39 AM\r\n",
      "Sunday, March 13, 2022 8:52:39 AM\r\n",
      "Sunday, March 20, 2022 8:52:39 AM\r\n",
      "\r\n"
     ]
    }
   ],
   "source": [
    "foreach($item in seq 1 7 28) {\n",
    "    $item\n",
    "}\n",
    "\n",
    "# dates\n",
    "foreach($item in dseq 1 7 28) {\n",
    "    $item\n",
    "}\n"
   ]
  }
 ],
 "metadata": {
  "kernelspec": {
   "display_name": ".NET (PowerShell)",
   "language": "PowerShell",
   "name": ".net-pwsh"
  },
  "language_info": {
   "name": "PowerShell"
  }
 },
 "nbformat": 4,
 "nbformat_minor": 2
}
